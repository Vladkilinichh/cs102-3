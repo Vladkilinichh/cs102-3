{
  "nbformat": 4,
  "nbformat_minor": 0,
  "metadata": {
    "colab": {
      "name": "flyghtsR.ipynb",
      "provenance": []
    },
    "kernelspec": {
      "name": "python3",
      "display_name": "Python 3"
    }
  },
  "cells": [
    {
      "cell_type": "code",
      "metadata": {
        "id": "ccgQt77LnwwP",
        "colab_type": "code",
        "colab": {
          "base_uri": "https://localhost:8080/",
          "height": 105
        },
        "outputId": "7d75ba60-e9e2-44af-dae3-04a7d470048c"
      },
      "source": [
        "%reload_ext rpy2.ipython\n",
        "%config IPCompleter.greedy=True\n",
        "%config InlineBackend.figure_format = 'retina'"
      ],
      "execution_count": 1,
      "outputs": [
        {
          "output_type": "stream",
          "text": [
            "/usr/local/lib/python3.6/dist-packages/rpy2/robjects/pandas2ri.py:14: FutureWarning: pandas.core.index is deprecated and will be removed in a future version.  The public classes are available in the top-level namespace.\n",
            "  from pandas.core.index import Index as PandasIndex\n",
            "/usr/local/lib/python3.6/dist-packages/rpy2/robjects/pandas2ri.py:34: UserWarning: pandas >= 1.0 is not supported.\n",
            "  warnings.warn('pandas >= 1.0 is not supported.')\n"
          ],
          "name": "stderr"
        }
      ]
    },
    {
      "cell_type": "code",
      "metadata": {
        "id": "_Ari6aTYoRFs",
        "colab_type": "code",
        "colab": {
          "base_uri": "https://localhost:8080/",
          "height": 255
        },
        "outputId": "52ed785b-eb9f-4ca9-868d-57f172c974c3"
      },
      "source": [
        "%%R\n",
        "library(readr)\n",
        "library(dplyr)"
      ],
      "execution_count": 2,
      "outputs": [
        {
          "output_type": "stream",
          "text": [
            "R[write to console]: \n",
            "Attaching package: ‘dplyr’\n",
            "\n",
            "\n",
            "R[write to console]: The following objects are masked from ‘package:stats’:\n",
            "\n",
            "    filter, lag\n",
            "\n",
            "\n",
            "R[write to console]: The following objects are masked from ‘package:base’:\n",
            "\n",
            "    intersect, setdiff, setequal, union\n",
            "\n",
            "\n"
          ],
          "name": "stderr"
        }
      ]
    },
    {
      "cell_type": "code",
      "metadata": {
        "id": "6kPU0buOobbT",
        "colab_type": "code",
        "colab": {}
      },
      "source": [
        "%%R\n",
        "df <- read_csv('2008.zip', col_types = cols_only(DayOfWeek = col_integer(), DayofMonth = col_integer(), Month = col_integer(), Cancelled = col_integer(), Year = col_integer(), FlightNum = col_integer(), Distance = col_double(), UniqueCarrier = col_character(), CancellationCode = col_character(), Origin = col_character(), Dest = col_character(), ArrDelay = col_integer(), DepDelay=col_integer(), CarrierDelay=col_integer(), WeatherDelay = col_integer(), NASDelay=col_integer(), SecurityDelay = col_integer(), LateAircraftDelay=col_integer(), DepTime=col_integer()))\n"
      ],
      "execution_count": 0,
      "outputs": []
    },
    {
      "cell_type": "code",
      "metadata": {
        "id": "tAio2kNkthlK",
        "colab_type": "code",
        "colab": {
          "base_uri": "https://localhost:8080/",
          "height": 238
        },
        "outputId": "cd661b4d-97fc-4d32-c5e6-e3a470cacd63"
      },
      "source": [
        "%%R\n",
        "head(df)"
      ],
      "execution_count": 5,
      "outputs": [
        {
          "output_type": "stream",
          "text": [
            "# A tibble: 6 x 19\n",
            "   Year Month DayofMonth DayOfWeek DepTime UniqueCarrier FlightNum ArrDelay\n",
            "  <int> <int>      <int>     <int>   <int> <chr>             <int>    <int>\n",
            "1  2008     1          3         4    2003 WN                  335      -14\n",
            "2  2008     1          3         4     754 WN                 3231        2\n",
            "3  2008     1          3         4     628 WN                  448       14\n",
            "4  2008     1          3         4     926 WN                 1746       -6\n",
            "5  2008     1          3         4    1829 WN                 3920       34\n",
            "6  2008     1          3         4    1940 WN                  378       11\n",
            "# … with 11 more variables: DepDelay <int>, Origin <chr>, Dest <chr>,\n",
            "#   Distance <dbl>, Cancelled <int>, CancellationCode <chr>,\n",
            "#   CarrierDelay <int>, WeatherDelay <int>, NASDelay <int>,\n",
            "#   SecurityDelay <int>, LateAircraftDelay <int>\n"
          ],
          "name": "stdout"
        }
      ]
    },
    {
      "cell_type": "markdown",
      "metadata": {
        "id": "ipZL6x9Cqwfm",
        "colab_type": "text"
      },
      "source": [
        "1. Find top-10 carriers in terms of the number of completed flights (UniqueCarrier column)?\n",
        "\n",
        "Which of the listed below is not in your top-10 list?\n",
        "\n",
        "DL\n",
        "AA\n",
        "OO\n",
        "EV"
      ]
    },
    {
      "cell_type": "code",
      "metadata": {
        "id": "oZ-USiKMqxvL",
        "colab_type": "code",
        "colab": {
          "base_uri": "https://localhost:8080/",
          "height": 68
        },
        "outputId": "41ca706d-d70d-432c-d20e-c17c4a945fb1"
      },
      "source": [
        "%%R\n",
        "top <- df\n",
        "sort(table(df['UniqueCarrier']), decreasing=TRUE)[1:10]"
      ],
      "execution_count": 6,
      "outputs": [
        {
          "output_type": "stream",
          "text": [
            "\n",
            "     WN      AA      OO      MQ      US      DL      UA      XE      NW      CO \n",
            "1201754  604885  567159  490693  453589  451931  449515  374510  347652  298455 \n"
          ],
          "name": "stdout"
        }
      ]
    },
    {
      "cell_type": "markdown",
      "metadata": {
        "id": "jGNQCnuor9vN",
        "colab_type": "text"
      },
      "source": [
        "**Answer: EV**\n",
        "\n",
        "**2. Plot distributions of flight cancellation reasons (CancellationCode).**\n",
        "\n",
        "What is the most frequent reason for flight cancellation? (Use this link to translate codes into reasons)\n",
        "\n",
        "carrier; weather conditions; National Air System; security reasons"
      ]
    },
    {
      "cell_type": "code",
      "metadata": {
        "id": "gS5B4c0Tq2ve",
        "colab_type": "code",
        "colab": {
          "base_uri": "https://localhost:8080/",
          "height": 497
        },
        "outputId": "ccc3a74d-a0dc-4898-d9fa-1fb5be6fd09f"
      },
      "source": [
        "%%R\n",
        "cancels = sort(table(df['CancellationCode']), decreasing=TRUE)\n",
        "barplot(cancels)"
      ],
      "execution_count": 8,
      "outputs": [
        {
          "output_type": "display_data",
          "data": {
            "image/png": "[encoded data removed]"
          },
          "metadata": {
            "tags": []
          }
        }
      ]
    },
    {
      "cell_type": "markdown",
      "metadata": {
        "id": "rBC2E18NslBR",
        "colab_type": "text"
      },
      "source": [
        "**Answer: weather conditions(B)**\n",
        "\n",
        "**3.Which route is the most frequent, in terms of the number of flights?**\n",
        "(Take a look at 'Origin' and 'Dest' features. Consider A->B and B->A directions as different routes)\n",
        "\n",
        "New-York – Washington\n",
        " San-Francisco – Los-Angeles\n",
        "  San-Jose – Dallas\n",
        "   New-York – San-Francisco"
      ]
    },
    {
      "cell_type": "code",
      "metadata": {
        "id": "zktoKbI8sW_R",
        "colab_type": "code",
        "colab": {
          "base_uri": "https://localhost:8080/",
          "height": 102
        },
        "outputId": "e7923bdd-db41-45b1-c99f-e24a626caf32"
      },
      "source": [
        "%%R\n",
        "frequent <-df\n",
        "frequent %>% group_by(Origin, Dest) %>% summarise(n=n()) %>% arrange(-n) %>% .[1,]"
      ],
      "execution_count": 9,
      "outputs": [
        {
          "output_type": "stream",
          "text": [
            "# A tibble: 1 x 3\n",
            "# Groups:   Origin [1]\n",
            "  Origin Dest      n\n",
            "  <chr>  <chr> <int>\n",
            "1 SFO    LAX   13788\n"
          ],
          "name": "stdout"
        }
      ]
    },
    {
      "cell_type": "markdown",
      "metadata": {
        "id": "DPktB-9EtHXx",
        "colab_type": "text"
      },
      "source": [
        "**Answer: San-Francisco – Los-Angeles**\n",
        "\n",
        "**4.Find top-5 delayed routes** (count how many times they were delayed on departure). From all flights on these 5 routes, count all flights with weather conditions contributing to a delay.\n",
        "\n",
        "449 539 549 668"
      ]
    },
    {
      "cell_type": "code",
      "metadata": {
        "id": "FOWOqpAts_v2",
        "colab_type": "code",
        "colab": {
          "base_uri": "https://localhost:8080/",
          "height": 34
        },
        "outputId": "6269efda-05ae-4da7-c535-b79c22aaabf2"
      },
      "source": [
        "%%R\n",
        "delayed <-df\n",
        "filter(delayed, DepDelay>0) %>% group_by(Origin, Dest) %>% summarize(n = n(), w = length(which(WeatherDelay > 0))) %>% arrange(-n) %>% .[1:5, 'w'] %>% sum()"
      ],
      "execution_count": 10,
      "outputs": [
        {
          "output_type": "stream",
          "text": [
            "[1] 668\n"
          ],
          "name": "stdout"
        }
      ]
    },
    {
      "cell_type": "markdown",
      "metadata": {
        "id": "roLYNXVmtkhX",
        "colab_type": "text"
      },
      "source": [
        "**Answer: 668**\n",
        "\n",
        "**5.Examine the hourly distribution of departure times. For that, create a new series from DepTime, removing missing values.**\n",
        "Choose all correct statements:\n",
        "\n",
        "Flights are normally distributed within time interval [0-23] (Search for: Normal distribution, bell curve).\n",
        "\n",
        " Flights are uniformly distributed within time interval [0-23].\n",
        " \n",
        "  In the period from 0 am to 4 am there are considerably less flights than from 7 pm to 8 pm."
      ]
    },
    {
      "cell_type": "code",
      "metadata": {
        "id": "cYRWsVzltgEk",
        "colab_type": "code",
        "colab": {
          "base_uri": "https://localhost:8080/",
          "height": 497
        },
        "outputId": "e17d66fa-e9cb-496d-fd51-680d81204208"
      },
      "source": [
        "%%R\n",
        "stat = df[!is.na(df['DepTime']), 'DepTime']\n",
        "hist(stat$DepTime, breaks = 10, col='grey')"
      ],
      "execution_count": 13,
      "outputs": [
        {
          "output_type": "display_data",
          "data": {
            "image/png": "[encoded data removed]"
          },
          "metadata": {
            "tags": []
          }
        }
      ]
    },
    {
      "cell_type": "markdown",
      "metadata": {
        "id": "uik0W-rQuT_q",
        "colab_type": "text"
      },
      "source": [
        "**Answer: True is last statement**\n",
        "\n",
        "**6.Show how the number of flights changes through time (on the daily/weekly/monthly basis) and interpret the findings.**\n",
        "\n",
        "Choose all correct statements:\n",
        "\n",
        "The number of flights during weekends is less than during weekdays (working days).\n",
        "\n",
        "The lowest number of flights is on Sunday.\n",
        "\n",
        "There are less flights during winter than during summer."
      ]
    },
    {
      "cell_type": "code",
      "metadata": {
        "id": "SqnYhIGluKcR",
        "colab_type": "code",
        "colab": {
          "base_uri": "https://localhost:8080/",
          "height": 497
        },
        "outputId": "1ef4b05b-36cc-4c8c-e822-59936805ad03"
      },
      "source": [
        "%%R\n",
        "barplot(table(df['DayOfWeek']))"
      ],
      "execution_count": 14,
      "outputs": [
        {
          "output_type": "display_data",
          "data": {
            "image/png": "[encoded data removed]"
          },
          "metadata": {
            "tags": []
          }
        }
      ]
    },
    {
      "cell_type": "code",
      "metadata": {
        "id": "1RRe8HasvGbY",
        "colab_type": "code",
        "colab": {
          "base_uri": "https://localhost:8080/",
          "height": 497
        },
        "outputId": "dd669b12-c4cc-4e68-d4bb-bda936afe11f"
      },
      "source": [
        "%%R\n",
        "barplot(table(df['Month']))"
      ],
      "execution_count": 15,
      "outputs": [
        {
          "output_type": "display_data",
          "data": {
            "image/png": "[encoded data removed]"
          },
          "metadata": {
            "tags": []
          }
        }
      ]
    },
    {
      "cell_type": "markdown",
      "metadata": {
        "id": "EpytsbJwvR3P",
        "colab_type": "text"
      },
      "source": [
        "**Answer: True is 1st and last statement**\n",
        "\n",
        "**7.Examine the distribution of cancellation reasons with time. Make a bar plot of cancellation reasons aggregated by months.**\n",
        "Choose all correct statements:\n",
        "\n",
        "December has the highest rate of cancellations due to weather. \n",
        "\n",
        "The highest rate of cancellations in September is due to Security reasons.\n",
        "\n",
        " April's top cancellation reason is carriers. \n",
        " \n",
        " Flights cancellations due to National Air System are more frequent than those due to carriers."
      ]
    },
    {
      "cell_type": "code",
      "metadata": {
        "id": "JIZ6PaGzvJ3I",
        "colab_type": "code",
        "colab": {
          "base_uri": "https://localhost:8080/",
          "height": 272
        },
        "outputId": "a2903df0-ff93-4aeb-a5a9-525374913d67"
      },
      "source": [
        "%%R\n",
        "statem <- df %>% filter(!is.na(CancellationCode)) %>% group_by(CancellationCode, Month) %>% summarize(n = n()) %>% arrange(-n)\n",
        "statem"
      ],
      "execution_count": 16,
      "outputs": [
        {
          "output_type": "stream",
          "text": [
            "# A tibble: 41 x 3\n",
            "# Groups:   CancellationCode [4]\n",
            "   CancellationCode Month     n\n",
            "   <chr>            <int> <int>\n",
            " 1 B                   12 10042\n",
            " 2 B                    2 10034\n",
            " 3 B                    3  7520\n",
            " 4 A                    4  7312\n",
            " 5 B                    1  6711\n",
            " 6 A                    1  6635\n",
            " 7 B                    9  6478\n",
            " 8 A                    2  6090\n",
            " 9 A                    3  6038\n",
            "10 A                    7  5292\n",
            "# … with 31 more rows\n"
          ],
          "name": "stdout"
        }
      ]
    },
    {
      "cell_type": "code",
      "metadata": {
        "id": "0_BOQcetv6fm",
        "colab_type": "code",
        "colab": {
          "base_uri": "https://localhost:8080/",
          "height": 497
        },
        "outputId": "f4fc9215-81e3-4105-ee2b-533ec9d996a6"
      },
      "source": [
        "%%R\n",
        "barplot(formula = statem$n ~ statem$CancellationCode + statem$Month)"
      ],
      "execution_count": 17,
      "outputs": [
        {
          "output_type": "display_data",
          "data": {
            "image/png": "[encoded data removed]"
          },
          "metadata": {
            "tags": []
          }
        }
      ]
    },
    {
      "cell_type": "markdown",
      "metadata": {
        "id": "v6XTA3gmwRDU",
        "colab_type": "text"
      },
      "source": [
        "**Answer:TFTF**\n",
        "\n",
        "**8.Which month has the greatest number of cancellations due to Carrier?**\n",
        "May January September April"
      ]
    },
    {
      "cell_type": "code",
      "metadata": {
        "id": "keExLpzLwFBj",
        "colab_type": "code",
        "colab": {
          "base_uri": "https://localhost:8080/",
          "height": 102
        },
        "outputId": "e83ea40e-3386-4479-d740-539da0c6281d"
      },
      "source": [
        "%%R\n",
        "carrier <- filter(df, CancellationCode == 'A')\n",
        "carrier %>% group_by(Month, CancellationCode) %>% summarize(n = n()) %>% arrange(-n) %>% .[1,]"
      ],
      "execution_count": 18,
      "outputs": [
        {
          "output_type": "stream",
          "text": [
            "# A tibble: 1 x 3\n",
            "# Groups:   Month [1]\n",
            "  Month CancellationCode     n\n",
            "  <int> <chr>            <int>\n",
            "1     4 A                 7312\n"
          ],
          "name": "stdout"
        }
      ]
    },
    {
      "cell_type": "markdown",
      "metadata": {
        "id": "_wAyeu3IxLQj",
        "colab_type": "text"
      },
      "source": [
        "**Answer: April**\n",
        "\n",
        "**9.Identify the carrier with the greatest number of cancellations due to carrier in the corresponding month from the previous question**\n",
        "9E EV HA AA"
      ]
    },
    {
      "cell_type": "code",
      "metadata": {
        "id": "0VLuDsufxHiM",
        "colab_type": "code",
        "colab": {
          "base_uri": "https://localhost:8080/",
          "height": 85
        },
        "outputId": "0c88b5b1-45ae-488d-d573-4f4a3b2d8edc"
      },
      "source": [
        "%%R\n",
        "needed <- filter(df, Month == 4 & Cancelled == 1)\n",
        "needed %>% group_by(UniqueCarrier) %>% summarize(n = n()) %>% arrange(-n) %>% .[1,]"
      ],
      "execution_count": 19,
      "outputs": [
        {
          "output_type": "stream",
          "text": [
            "# A tibble: 1 x 2\n",
            "  UniqueCarrier     n\n",
            "  <chr>         <int>\n",
            "1 AA             3918\n"
          ],
          "name": "stdout"
        }
      ]
    },
    {
      "cell_type": "markdown",
      "metadata": {
        "id": "TMLxeNwmxdfN",
        "colab_type": "text"
      },
      "source": [
        "**Answer: AA**\n",
        "\n",
        "**10. Examine median arrival and departure delays (in time) by carrier. Which carrier has the lowest median delay time for both arrivals and departures?**\n",
        "\n",
        " Leave only non-negative values of delay times ('ArrDelay', 'DepDelay'). Boxplots can be helpful in this exercise, as well as it might be a good idea to remove outliers in order to build nice graphs. You can exclude delay time values higher than a corresponding .95 percentile.\n",
        " \n",
        "EV OO AA AQ"
      ]
    },
    {
      "cell_type": "code",
      "metadata": {
        "id": "P1okFOgWxaq8",
        "colab_type": "code",
        "colab": {
          "base_uri": "https://localhost:8080/",
          "height": 85
        },
        "outputId": "e35aa148-8502-47d7-b814-da8bdf1ace52"
      },
      "source": [
        "%%R\n",
        "df %>% filter(ArrDelay > 0) %>% group_by(UniqueCarrier) %>% summarize(n = median(ArrDelay)) %>% arrange(n) %>% .[1, ]"
      ],
      "execution_count": 20,
      "outputs": [
        {
          "output_type": "stream",
          "text": [
            "# A tibble: 1 x 2\n",
            "  UniqueCarrier     n\n",
            "  <chr>         <dbl>\n",
            "1 AQ                5\n"
          ],
          "name": "stdout"
        }
      ]
    },
    {
      "cell_type": "code",
      "metadata": {
        "id": "3Ewpo8akxvt0",
        "colab_type": "code",
        "colab": {
          "base_uri": "https://localhost:8080/",
          "height": 85
        },
        "outputId": "5225986f-b791-4553-d895-5a07058a348a"
      },
      "source": [
        "%%R\n",
        "\n",
        "df %>% filter(DepDelay > 0) %>% group_by(UniqueCarrier) %>% summarize(n = median(DepDelay)) %>% arrange(n) %>% .[1, ]"
      ],
      "execution_count": 21,
      "outputs": [
        {
          "output_type": "stream",
          "text": [
            "# A tibble: 1 x 2\n",
            "  UniqueCarrier     n\n",
            "  <chr>         <dbl>\n",
            "1 AQ                7\n"
          ],
          "name": "stdout"
        }
      ]
    },
    {
      "cell_type": "markdown",
      "metadata": {
        "id": "7zcCMFXox220",
        "colab_type": "text"
      },
      "source": [
        "**Answer: AQ**"
      ]
    }
  ]
}